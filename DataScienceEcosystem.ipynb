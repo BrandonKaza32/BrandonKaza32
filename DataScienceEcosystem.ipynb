{
 "cells": [
  {
   "cell_type": "markdown",
   "id": "9da3a932-a269-4560-b780-096840fdfeda",
   "metadata": {},
   "source": [
    "Exercise 2\n",
    "|--------|\n",
    "    \n",
    "# Data Science Tools and Ecosystem "
   ]
  },
  {
   "cell_type": "markdown",
   "id": "9f746b4f-bc31-42c5-9ed7-4b42cf3692e9",
   "metadata": {},
   "source": [
    "Exercise 3\n",
    "|--------|\n",
    "    \n",
    "In this notebook, Data Science Tools and Ecosystem are summarized.\n"
   ]
  },
  {
   "cell_type": "markdown",
   "id": "1341c286-33ad-45a5-b417-840562d8db38",
   "metadata": {},
   "source": [
    "Exercise 10\n",
    "|--------|\n",
    "\n",
    "**Objectives**    \n",
    "Some of the key takeaways from this course are\n",
    "- How to write headings\n",
    "- Tabulating data\n",
    "- Listing popular languages for Data Science\n",
    "- Listing some of the libraries used in Data Science\n",
    "- Demonstraring how simple arithmetic works in Jupyter Notebooks"
   ]
  },
  {
   "cell_type": "markdown",
   "id": "a6832c52-d144-4999-85a5-9f726be43243",
   "metadata": {},
   "source": [
    "Exercise 4\n",
    "|---------|\n",
    "    \n",
    "Some of the popular languages that Data Scientists use are:\n",
    "1. Python\n",
    "2. R\n",
    "3. Julia\n",
    "3. Scala\n",
    "4. SQL\n",
    "5. Java\n",
    "6. C/C++\n",
    "7. JavaScript"
   ]
  },
  {
   "cell_type": "markdown",
   "id": "7db20eee-c18b-437d-bb60-b0162da488ae",
   "metadata": {},
   "source": [
    "Exercise 5\n",
    "|--------|\n",
    "\n",
    "Some of the commonly used libraries used by Data Scientists include:\n",
    "- NumPy, Pandas, SciPy\n",
    "- Scikit, PyTorch, TensorFlow\n",
    "- Matplotlib, Seaborn, Plotly\n",
    "- ggplot, Lattice, Leaflet\n",
    "    \n",
    "    "
   ]
  },
  {
   "cell_type": "markdown",
   "id": "6c5a81a9-b5aa-4ade-a1d8-9d9b302edf55",
   "metadata": {},
   "source": [
    "Exercise 6\n",
    "|--------|\n",
    "\n",
    "|Data Science Tools|\n",
    "|---------------|\n",
    "|Jupyter Notebook/Lab|\n",
    "|PyCharm|\n",
    "|RStudio|\n",
    "    "
   ]
  },
  {
   "cell_type": "markdown",
   "id": "dc39bf71-59eb-443a-93da-570cc2758a43",
   "metadata": {},
   "source": [
    "Exercise 7\n",
    "|-------|\n",
    "\n",
    "### Below are a few examples of evaluating arithmetic expressions in Python\n",
    "\n",
    "x = 2   \n",
    "\n",
    "y = 3\n",
    "\n",
    "z = x + y*3 \n",
    "\n",
    "print(z) "
   ]
  },
  {
   "cell_type": "markdown",
   "id": "bdbabd2d-9241-4da9-b9bc-778a78faffd1",
   "metadata": {},
   "source": [
    "Exercise 8\n",
    "|------|"
   ]
  },
  {
   "cell_type": "code",
   "execution_count": 55,
   "id": "5e180680-8d57-4c9a-b965-0c2abdf402c8",
   "metadata": {},
   "outputs": [
    {
     "data": {
      "text/plain": [
       "17"
      ]
     },
     "execution_count": 55,
     "metadata": {},
     "output_type": "execute_result"
    }
   ],
   "source": [
    "#This is a simple arithmetic expression to multiply then add integers.\n",
    "(3*4)+5   "
   ]
  },
  {
   "cell_type": "markdown",
   "id": "aa0d3251-826c-4160-b492-bd7d0ac022e2",
   "metadata": {},
   "source": [
    "Exercise 9\n",
    "|-------|"
   ]
  },
  {
   "cell_type": "code",
   "execution_count": 51,
   "id": "18eb1286-6340-4f10-a856-f5667fa435c2",
   "metadata": {},
   "outputs": [
    {
     "name": "stdout",
     "output_type": "stream",
     "text": [
      "The number of hours is 3.\n"
     ]
    }
   ],
   "source": [
    "#This will convert 200 minutes to hours by dividing by 60\n",
    "minutes = 200\n",
    "hours = minutes//60\n",
    "print(f\"The number of hours is {hours}.\")  "
   ]
  },
  {
   "cell_type": "markdown",
   "id": "7c5f0c0d-4e75-4252-a10a-e1f24782419b",
   "metadata": {
    "jp-MarkdownHeadingCollapsed": true
   },
   "source": [
    "Exercise 11\n",
    "|--------|\n",
    "\n",
    "## Author \n",
    "Brandon K"
   ]
  },
  {
   "cell_type": "markdown",
   "id": "5629f781-b01e-4b2b-9cc2-95f4aaa05bd4",
   "metadata": {},
   "source": []
  }
 ],
 "metadata": {
  "kernelspec": {
   "display_name": "Python [conda env:base] *",
   "language": "python",
   "name": "conda-base-py"
  },
  "language_info": {
   "codemirror_mode": {
    "name": "ipython",
    "version": 3
   },
   "file_extension": ".py",
   "mimetype": "text/x-python",
   "name": "python",
   "nbconvert_exporter": "python",
   "pygments_lexer": "ipython3",
   "version": "3.11.5"
  }
 },
 "nbformat": 4,
 "nbformat_minor": 5
}
